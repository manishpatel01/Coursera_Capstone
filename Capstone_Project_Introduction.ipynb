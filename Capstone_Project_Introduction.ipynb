{
 "cells": [
  {
   "cell_type": "markdown",
   "metadata": {},
   "source": [
    "## Introduciton/ Business Problem "
   ]
  },
  {
   "cell_type": "markdown",
   "metadata": {},
   "source": [
    "### Where to locate a mexican restaurant in NYC?\n",
    "#### Analyze & visualize the various neighborhoods in NYC and then recommend neighborhoods which have a high percentage of restaurants but are lacking in Mexican restaurants."
   ]
  },
  {
   "cell_type": "markdown",
   "metadata": {},
   "source": [
    "## Data Needed"
   ]
  },
  {
   "cell_type": "markdown",
   "metadata": {},
   "source": [
    "### NYC Data that contains latitude and longitude data for neighborhoods and boroughs.\n",
    "#### Data source - https://cocl.us/new_york_dataset\n",
    "\n",
    "### Neighborhoods with Mexican restaurants\n",
    "#### Data source - Foursquare API\n",
    "#### Use Foursquare data to identify neighborhoods by high total number of restaurants and low % of mexican restaurants. \n",
    "#### Future - Can be combined with Census data for the neighborhood to refine the seleciton of neighborhoods\n",
    "\n",
    "### Geo data to visualize maps\n",
    "#### Data Source - https://data.cityofnewyork.us/City-Government/Borough-Boundaries/tqmj-j8zm\n"
   ]
  },
  {
   "cell_type": "code",
   "execution_count": null,
   "metadata": {},
   "outputs": [],
   "source": []
  }
 ],
 "metadata": {
  "kernelspec": {
   "display_name": "Python 3",
   "language": "python",
   "name": "python3"
  },
  "language_info": {
   "codemirror_mode": {
    "name": "ipython",
    "version": 3
   },
   "file_extension": ".py",
   "mimetype": "text/x-python",
   "name": "python",
   "nbconvert_exporter": "python",
   "pygments_lexer": "ipython3",
   "version": "3.8.3"
  }
 },
 "nbformat": 4,
 "nbformat_minor": 4
}
