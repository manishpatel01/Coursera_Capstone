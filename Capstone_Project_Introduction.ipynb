{
 "cells": [
  {
   "cell_type": "markdown",
   "metadata": {},
   "source": [
    "## Introduciton/ Business Problem "
   ]
  },
  {
   "cell_type": "markdown",
   "metadata": {},
   "source": [
    "### Where to locate a mexican restaurant?\n",
    "#### Analyze the various neighborhoods in a city and then recommend neighborhoods which have a high percentage of restaurants but are lacking in Mexican restaurants."
   ]
  },
  {
   "cell_type": "markdown",
   "metadata": {},
   "source": [
    "## Data Needed"
   ]
  },
  {
   "cell_type": "markdown",
   "metadata": {},
   "source": [
    "### Use Foursquare data to identify location of restaurants within a neighborhood.\n",
    "#### Future - Can be combined with Census data for the neighborhood to refine the seleciton of neighborhoods\n",
    "\n",
    "#### Data used will be venues, venue category within 500 meter of a certain lat/lon.\n",
    "#### Venue category will be filtered to those containing restaurants only\n",
    "#### Identify neighborhoods by high total number of restaurants and low % of mexican restaurants. "
   ]
  },
  {
   "cell_type": "code",
   "execution_count": null,
   "metadata": {},
   "outputs": [],
   "source": []
  }
 ],
 "metadata": {
  "kernelspec": {
   "display_name": "Python 3",
   "language": "python",
   "name": "python3"
  },
  "language_info": {
   "codemirror_mode": {
    "name": "ipython",
    "version": 3
   },
   "file_extension": ".py",
   "mimetype": "text/x-python",
   "name": "python",
   "nbconvert_exporter": "python",
   "pygments_lexer": "ipython3",
   "version": "3.8.3"
  }
 },
 "nbformat": 4,
 "nbformat_minor": 4
}
